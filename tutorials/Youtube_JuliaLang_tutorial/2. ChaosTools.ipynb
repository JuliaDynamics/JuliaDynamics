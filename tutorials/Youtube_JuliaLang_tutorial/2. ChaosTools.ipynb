{
 "cells": [
  {
   "cell_type": "markdown",
   "metadata": {},
   "source": [
    "# 2.A. What to do with a `DynamicalSystem`? Orbit Diagram\n",
    "An \"orbit diagram\" is simply a plot that shows the long term behavior of a discrete system when a parameter is varied. \n",
    "\n",
    "How does one compute it?\n",
    "1. Evolves the system for a transient amount of time.\n",
    "2. Evolves & saves the output of the system for a chosen amount of time.\n",
    "3. Changes/increments a parameter of the equations of motion.\n",
    "4. Repeat steps 1-3 for all given parameter values.\n",
    "\n",
    "This is exactly what the function `orbitdiagram` does!\n",
    "\n",
    "\n",
    "---\n",
    "\n",
    "Let's make the super-ultra-famous orbit diagram of the logistic map:\n",
    "\n",
    "$$x_{n+1} = rx_n(1-x_n)$$"
   ]
  },
  {
   "cell_type": "code",
   "execution_count": null,
   "metadata": {},
   "outputs": [],
   "source": [
    "using DynamicalSystems, Plots"
   ]
  },
  {
   "cell_type": "code",
   "execution_count": null,
   "metadata": {},
   "outputs": [],
   "source": [
    "logimap = Systems.logistic() # Systems module contains pre-defined well-known systems"
   ]
  },
  {
   "cell_type": "markdown",
   "metadata": {},
   "source": [
    "---\n",
    "\n",
    "The call signature of `orbitdiagram` is:\n",
    "\n",
    "```julia\n",
    "orbitdiagram(discrete_system, i, p_index, pvalues; n, Ttr, ...)\n",
    "```\n",
    "* `i` is the index of the variable we want to save (for which variable to create the orbit diagram).\n",
    "* `p_index` is the index of the parameter of `discrete_system` that we want to change.\n",
    "* `pvalues` is the collection of the values that the changing parameter would take on.\n",
    "* Keywords `Ttr` and `n` denote for how much transient time to evolve the system (that is, how many time steps to throw away from the beginning), and how many steps to save.\n"
   ]
  },
  {
   "cell_type": "code",
   "execution_count": null,
   "metadata": {},
   "outputs": [],
   "source": [
    "i = 1\n",
    "n = 2000 # how many values to save\n",
    "Ttr = 2000 # transient iterations\n",
    "p_index = 1\n",
    "pvalues = 2:0.001:4  # parameter values\n",
    "output = orbitdiagram(logimap, i, p_index, pvalues; n = n, Ttr = Ttr)\n",
    "typeof(output)"
   ]
  },
  {
   "cell_type": "markdown",
   "metadata": {},
   "source": [
    "* The output is a vector of vectors. Each inner vector has length `n` and contains the values of the `i`-th variable at the given parameter value.\n",
    "\n",
    "---\n",
    "\n",
    "Let's plot this!"
   ]
  },
  {
   "cell_type": "code",
   "execution_count": null,
   "metadata": {},
   "outputs": [],
   "source": [
    "function plot_od(r1, r2, n = 1000, Ttr = 1000)\n",
    "    params = range(r1, stop = r2, length = 1001)\n",
    "\n",
    "    res = orbitdiagram(logimap, 1, 1, params; n = n, Ttr = Ttr)\n",
    "    L = length(params)\n",
    "\n",
    "    x = Matrix{Float64}(undef, n, L)\n",
    "    y = Matrix{Float64}(undef, n, L)\n",
    "    for j in 1:L\n",
    "        x[:,j] .= params[j]\n",
    "        y[:,j] .= res[j]\n",
    "    end\n",
    "    scatter(x, y, \n",
    "        markersize=0.1, markeralpha = 0.3, markercolor=\"black\",\n",
    "        leg=false, title=\"Bifurcation graph\", \n",
    "        html_output_format=:png, size=(2000,1000))\n",
    "end"
   ]
  },
  {
   "cell_type": "code",
   "execution_count": null,
   "metadata": {},
   "outputs": [],
   "source": [
    "plot_od(2, 4.0)"
   ]
  },
  {
   "cell_type": "code",
   "execution_count": null,
   "metadata": {},
   "outputs": [],
   "source": [
    "plot_od(3.5, 3.6)"
   ]
  },
  {
   "cell_type": "markdown",
   "metadata": {},
   "source": [
    "---\n",
    "\n",
    "* `orbitdiagram` works with *any* discrete system! Check out the [documentation page](https://juliadynamics.github.io/DynamicalSystems.jl/latest/chaos/orbitdiagram/) for more!"
   ]
  },
  {
   "cell_type": "markdown",
   "metadata": {},
   "source": [
    "# 2.B. Poincaré Surface of Section\n",
    "This is a technique to reduce a continuous system into a discrete map with 1 fewer dimension.\n",
    "The wikipedia entry on [Poincaré map](https://en.wikipedia.org/wiki/Poincar%C3%A9_map) has a lot of useful info, but the technique itself is very simple:\n",
    "\n",
    "1. Define a hyperplane in the phase-space of the system. \n",
    "2. Evolve the continuous system for long times. Each time the trajectory crosses this plane, record the state of the system.\n",
    "3. Only crossings with a specific direction (either positive or negative) are allowed.\n",
    "\n",
    "And that's it! The recorded crossings are the Poincaré Surface of Section!\n",
    "\n",
    "## Defining a hyperplane\n",
    "Let's say that our phase-space is $D$ dimensional. If the state of the system is $\\mathbf{u} = (u_1, \\ldots, u_D)$ then the equation for a hyperplane is \n",
    "\n",
    "$$\n",
    "a_1u_1 + \\dots + a_Du_D = \\mathbf{a}\\cdot\\mathbf{u}=b \n",
    "$$\n",
    "where $\\mathbf{a}, b$ are the parameters that define the hyperplane.\n",
    "\n",
    "---\n",
    "\n",
    "Here is the call signature for a function that does this:\n",
    "\n",
    "```julia\n",
    "poincaresos(continuous_system, plane, tfinal = 100.0; kwargs...)\n",
    "```\n",
    "In code, `plane` can be either:\n",
    "\n",
    "* A `Tuple{Int, <: Number}`, like `(j, r)` : the hyperplane is defined as when the `j`-th variable of the system crosses the value `r`.\n",
    "* An `AbstractVector` of length `D+1`. The first `D` elements of the vector correspond to $\\mathbf{a}$ while the last element is $b$. The hyperplane is defined with its formal equation.\n",
    "\n",
    "---\n",
    "\n",
    "As an example, let's see a section of the Lorenz system:\n",
    "$$\n",
    "\\begin{aligned}\n",
    "\\dot{X} &= \\sigma(Y-X) \\\\\n",
    "\\dot{Y} &= -XZ + \\rho X -Y \\\\\n",
    "\\dot{Z} &= XY - \\beta Z\n",
    "\\end{aligned}\n",
    "$$\n"
   ]
  },
  {
   "cell_type": "code",
   "execution_count": null,
   "metadata": {},
   "outputs": [],
   "source": [
    "lor = Systems.lorenz()"
   ]
  },
  {
   "cell_type": "code",
   "execution_count": null,
   "metadata": {},
   "outputs": [],
   "source": [
    "tr = trajectory(lor, 100.0, dt = 0.005, Ttr = 50.0)\n",
    "x, y, z = columns(tr)\n",
    "plot(x,y,z,\n",
    "        leg=false, title=\"Lorenz attractor\", \n",
    "        html_output_format=:png, size=(1000,1000))"
   ]
  },
  {
   "cell_type": "markdown",
   "metadata": {},
   "source": [
    "**First, let's visualize the Poincaré Surface of Section in 3D**"
   ]
  },
  {
   "cell_type": "code",
   "execution_count": null,
   "metadata": {},
   "outputs": [],
   "source": [
    "c = Vector{String}(undef, length(y))\n",
    "for i in 1:length(y) # cut points: red\n",
    "    if -0.1 < y[i] < 0.1\n",
    "        c[i] = \"red\"\n",
    "    elseif y[i] < 0 \n",
    "        c[i] = \"blue\" # in front of cut: blue\n",
    "    else\n",
    "        c[i] = \"green\" # behind cut: green\n",
    "    end\n",
    "end"
   ]
  },
  {
   "cell_type": "code",
   "execution_count": null,
   "metadata": {},
   "outputs": [],
   "source": [
    "# First let's plot the attractor\n",
    "plot(x,y,z, color = :black, lw = 1, alpha = 0.25)\n",
    "scatter!(x, y, z, \n",
    "        markersize=2, markeralpha = 0.4, markercolor=\"black\",\n",
    "        leg=false, title=\"Lorenz attractor\", \n",
    "        html_output_format=:png, size=(2000,2000))"
   ]
  },
  {
   "cell_type": "code",
   "execution_count": null,
   "metadata": {},
   "outputs": [],
   "source": [
    "scatter(x, y, z, \n",
    "        markersize=3, markeralpha = 0.8, markercolor=c,\n",
    "        leg=false, title=\"Lorenz attractor\", \n",
    "        html_output_format=:png, size=(2000,2000))"
   ]
  },
  {
   "cell_type": "code",
   "execution_count": null,
   "metadata": {},
   "outputs": [],
   "source": [
    "# And then plot the Poincare Surface of Section (PSOS) plane:\n",
    "function meshgrid(vx, vy)\n",
    "    m, n = length(vy), length(vx)\n",
    "    vx = reshape(vx, 1, n); vy = reshape(vy, m, 1)\n",
    "    (repeat(vx, m, 1), repeat(vy, 1, n))\n",
    "end\n",
    "xx = [-20, 20]; zz = [0, 40]; \n",
    "X, Z = meshgrid(xx, zz)\n",
    "Y = zero(X)\n",
    "\n",
    "plot_surface(X, Y, Z, alpha = 0.25, color = \"k\");\n",
    "xlabel(\"X\"); ylabel(\"Y\"); zlabel(\"Z\");"
   ]
  },
  {
   "cell_type": "markdown",
   "metadata": {},
   "source": [
    "**Now let's use the `poincaresos` function**"
   ]
  },
  {
   "cell_type": "code",
   "execution_count": null,
   "metadata": {},
   "outputs": [],
   "source": [
    "plane = (2, 0.0) # when 2nd variable crosses 0.0"
   ]
  },
  {
   "cell_type": "code",
   "execution_count": null,
   "metadata": {},
   "outputs": [],
   "source": [
    "psos_chaotic = poincaresos(lor, plane, 2000.0, Ttr = 100.0)"
   ]
  },
  {
   "cell_type": "code",
   "execution_count": null,
   "metadata": {},
   "outputs": [],
   "source": [
    "scatter(psos_chaotic[:, 1], psos_chaotic[:, 3],\n",
    "        markersize=0.15, markeralpha = 0.15, markercolor=:black,\n",
    "        leg=false, title=\"Lorenz attractor Poincare section\", \n",
    "        html_output_format=:png, size=(500,500))"
   ]
  },
  {
   "cell_type": "markdown",
   "metadata": {},
   "source": [
    "* We see that the surface of section is some kind of 1-dimensional object. \n",
    "* This is expected, because as we will show in the tutorial \"Entropies & Dimensions\" the Lorenz system (at least for the default parameters) lives in an almost 2-dimensional attractor.\n",
    "\n",
    "* This means that when you take a cut through this object, the result should be 1-dimensional!"
   ]
  },
  {
   "cell_type": "markdown",
   "metadata": {},
   "source": [
    "Let's now compute the PSOS for a parameter value where the Lorenz system is stable instead of chaotic:"
   ]
  },
  {
   "cell_type": "code",
   "execution_count": null,
   "metadata": {},
   "outputs": [],
   "source": [
    "set_parameter!(lor, 2, 69.75)"
   ]
  },
  {
   "cell_type": "code",
   "execution_count": null,
   "metadata": {},
   "outputs": [],
   "source": [
    "tr = trajectory(lor, 100.0, dt = 0.01, Ttr = 500.0)\n",
    "x, y, z = columns(tr)\n",
    "scatter(x, y, z, \n",
    "        markersize=1, markeralpha = 0.8,\n",
    "        leg=false, title=\"Lorenz attractor\")"
   ]
  },
  {
   "cell_type": "code",
   "execution_count": null,
   "metadata": {},
   "outputs": [],
   "source": [
    "psos_regular = poincaresos(lor, (2, 0.0), 2000.0, Ttr = 1000.0)\n",
    "summary(psos_regular)"
   ]
  },
  {
   "cell_type": "code",
   "execution_count": null,
   "metadata": {},
   "outputs": [],
   "source": [
    "scatter(psos_regular[:, 1], psos_regular[:, 3],\n",
    "        markersize=0.15, markeralpha = 0.15, markercolor=:black,\n",
    "        leg=false, title=\"Non-chaotic Lorenz attractor Poincare section\", \n",
    "        html_output_format=:png, size=(500,500))"
   ]
  },
  {
   "cell_type": "markdown",
   "metadata": {},
   "source": [
    "And here are the two different PSOS plots side by side:"
   ]
  },
  {
   "cell_type": "code",
   "execution_count": null,
   "metadata": {},
   "outputs": [],
   "source": [
    "p1 = scatter(psos_chaotic[:, 1], psos_chaotic[:, 3],\n",
    "        markersize=0.15, markeralpha = 0.15, markercolor=:black,\n",
    "        leg=false, title=\"chaotic\", \n",
    "        html_output_format=:png)\n",
    "\n",
    "p2 = scatter(psos_regular[:, 1], psos_regular[:, 3],\n",
    "        markersize=0.15, markeralpha = 0.15, markercolor=:black,\n",
    "        leg=false, title=\"nonchaotic\", \n",
    "        html_output_format=:png)\n",
    "\n",
    "plot(p1,p2,layout=(1,2),legend=false, size=(1000,500))"
   ]
  },
  {
   "cell_type": "markdown",
   "metadata": {},
   "source": [
    "# 2.C. Lyapunov exponents\n",
    "\n",
    "## Definition\n",
    "Lyapunov exponents measure the exponential separation rate of trajectories that are (initially) close. \n",
    "\n",
    "Consider the following picture, where two nearby trajectories are evolved in time:\n",
    " \n",
    "\n",
    "<img src=\"lyapunov.png\" alt=\"Sketch of the Lyapunov exponent\" style=\"width: 500px;\"/>\n",
    "\n",
    "\n",
    "* $\\lambda$ denotes the \"maximum Lyapunov exponent\".\n",
    "* A $D$-dimensional system has $D$ exponents.\n",
    "* In general, a trajectory is called \"chaotic\" if\n",
    "    1. it follows nonlinear dynamics\n",
    "    2. it is *bounded* (does not escape to infinity)\n",
    "    2. it has at least one positive Lyapunov exponent\n",
    "\n",
    "*(please be aware that the above is an over-simplification! See the textbooks cited in our documentation for more)*\n",
    "\n",
    "---"
   ]
  },
  {
   "cell_type": "markdown",
   "metadata": {},
   "source": [
    "## Demonstration"
   ]
  },
  {
   "cell_type": "markdown",
   "metadata": {},
   "source": [
    "Before computing Lyapunov exponents, we'll demonstrate the concept of exponential separation using the Henon map that we used before\n",
    "\n",
    "$$\n",
    "\\begin{aligned}\n",
    "x_{n+1} &= 1 - ax_n^2 + y_n \\\\\n",
    "y_{n+1} &= bx_n\n",
    "\\end{aligned}\n",
    "$$"
   ]
  },
  {
   "cell_type": "code",
   "execution_count": null,
   "metadata": {},
   "outputs": [],
   "source": [
    "henon = Systems.henon()"
   ]
  },
  {
   "cell_type": "markdown",
   "metadata": {},
   "source": [
    "First we'll generate a trajectory for the towel map, `tr1`, from the default initial condition,"
   ]
  },
  {
   "cell_type": "code",
   "execution_count": null,
   "metadata": {},
   "outputs": [],
   "source": [
    "tr1 = trajectory(henon, 100)\n",
    "summary(tr1)"
   ]
  },
  {
   "cell_type": "markdown",
   "metadata": {},
   "source": [
    "and then we will generate a second trajectory, `tr2`, with a starting point slightly shifted from the initial condition of `tr1`."
   ]
  },
  {
   "cell_type": "code",
   "execution_count": null,
   "metadata": {},
   "outputs": [],
   "source": [
    "u2 = get_state(henon) + (1e-9 * ones(dimension(henon)))\n",
    "tr2 = trajectory(henon, 100, u2)\n",
    "summary(tr2)"
   ]
  },
  {
   "cell_type": "code",
   "execution_count": null,
   "metadata": {},
   "outputs": [],
   "source": [
    "using LinearAlgebra: norm\n",
    "\n",
    "# Plot the x-coordinate of the two trajectories:\n",
    "p1 = plot(tr1[:, 1], alpha = 0.5, title=\"Diverging trajectories\")\n",
    "plot!(tr2[:, 1], alpha = 0.5)\n",
    "\n",
    "# Plot their distance in a semilog plot:\n",
    "d = [norm(tr1[i] - tr2[i]) for i in 1:length(tr2)]\n",
    "p2 = plot(d, yaxis=:log, title=\"Their distance\")\n",
    "\n",
    "plot(p1,p2,layout=(2,1),legend=false)"
   ]
  },
  {
   "cell_type": "markdown",
   "metadata": {},
   "source": [
    "### Computing the Lyapunov Exponents\n",
    "\n",
    "`lyapunov` is a function that calculates the maximum Lyapunov exponent for a DynamicalSystem (for a given starting point)."
   ]
  },
  {
   "cell_type": "code",
   "execution_count": null,
   "metadata": {},
   "outputs": [],
   "source": [
    "λ = lyapunov(henon, 5000) # second argument is time to evolve"
   ]
  },
  {
   "cell_type": "markdown",
   "metadata": {},
   "source": [
    "This number is _approximately_ the slope of the distance increase!\n",
    "\n"
   ]
  },
  {
   "cell_type": "code",
   "execution_count": null,
   "metadata": {},
   "outputs": [],
   "source": [
    "using LinearAlgebra: norm\n",
    "\n",
    "p1 = plot(tr1[:, 1], alpha = 0.5, title=\"Diverging trajectories\")\n",
    "plot!(tr2[:, 1], alpha = 0.5)\n",
    "\n",
    "d = [norm(tr1[i] - tr2[i]) for i in 1:length(tr2)]\n",
    "p2 = plot(d, yaxis=:log, title=\"Their distance\")\n",
    "plot!(collect(0:50), d[1] .* exp.(collect(0:50) .* λ))\n",
    "\n",
    "plot(p1,p2,layout=(2,1),legend=false)"
   ]
  },
  {
   "cell_type": "markdown",
   "metadata": {},
   "source": [
    "If you want to get more than one Lyapunov exponents of a system, use `lyapunovs`"
   ]
  },
  {
   "cell_type": "code",
   "execution_count": null,
   "metadata": {},
   "outputs": [],
   "source": [
    "lyapunovs(henon, 2000)"
   ]
  },
  {
   "cell_type": "markdown",
   "metadata": {},
   "source": [
    "## Continuous systems"
   ]
  },
  {
   "cell_type": "markdown",
   "metadata": {},
   "source": [
    "* All functions that accept a `DynamicalSystem` work with *any* instance of `DynamicalSystem`, regardless of whether it is continuous, discrete, in-place, out-of-place, with Jacobian or whatever.\n",
    "* `lyapunov` and `lyapunovs` both accept a `DynamicalSystem`.\n",
    "\n",
    "This means that they will \"just work\" if we use the Lorenz system, `lor`.\n"
   ]
  },
  {
   "cell_type": "code",
   "execution_count": null,
   "metadata": {},
   "outputs": [],
   "source": [
    "lor = Systems.lorenz()\n",
    "lyapunov(lor, 2000.0)"
   ]
  },
  {
   "cell_type": "code",
   "execution_count": null,
   "metadata": {},
   "outputs": [],
   "source": [
    "lyapunovs(lor, 2000)"
   ]
  },
  {
   "cell_type": "markdown",
   "metadata": {},
   "source": [
    "Remember from the Poincare section that for some parameter values the Lorenz system was periodic, for others it was not."
   ]
  },
  {
   "cell_type": "code",
   "execution_count": null,
   "metadata": {},
   "outputs": [],
   "source": [
    "ρs = (69.75, 28.0)\n",
    "p = []\n",
    "c = [\"red\", \"blue\"]\n",
    "for (i, ρ) in enumerate(ρs)\n",
    "    set_parameter!(lor, 2, ρ)\n",
    "    psos = poincaresos(lor, (2, 0.0), 2000.0, Ttr = 2000.0)\n",
    "    pi = scatter(psos[:, 1], psos[:, 3],\n",
    "        markersize=0.15, markeralpha = 0.15, markercolor=c[i], \n",
    "        title=string(\"\\\\rho\", \" = $ρ, \", (i != 1 ? \"not periodic\" : \"periodic\")))\n",
    "    push!(p, pi)\n",
    "end\n",
    "\n",
    "plot(p[1],p[2],layout=(1,2),legend=false, size=(1000,500))"
   ]
  },
  {
   "cell_type": "code",
   "execution_count": null,
   "metadata": {},
   "outputs": [],
   "source": [
    "plot(1,1, title=\"\\\\rho\")"
   ]
  },
  {
   "cell_type": "markdown",
   "metadata": {},
   "source": [
    "Seems like the exponent in the first case λ should be equal to zero, and in the second λ should be positive."
   ]
  },
  {
   "cell_type": "code",
   "execution_count": null,
   "metadata": {},
   "outputs": [],
   "source": [
    "ρs = (69.75, 28.0)\n",
    "\n",
    "for (i, ρ) in enumerate(ρs)\n",
    "    set_parameter!(lor, 2, ρ)\n",
    "    λ = lyapunov(lor, 2000.0; Ttr = 2000.0)\n",
    "    println(\"For ρ = $ρ, λ = $λ\")\n",
    "end"
   ]
  },
  {
   "cell_type": "markdown",
   "metadata": {},
   "source": [
    "One has to be **very careful** when using functions like `lyapunovs`. They are approximative methods! Naively doing short computations or not using large transient times can lead to wrong results!"
   ]
  },
  {
   "cell_type": "code",
   "execution_count": null,
   "metadata": {},
   "outputs": [],
   "source": [
    "for (i, ρ) in enumerate(ρs)\n",
    "    set_parameter!(lor, 2, ρ)\n",
    "    λ = lyapunov(lor, 200.0) # smaller integration time, no transient time\n",
    "    println(\"For ρ = $ρ, λ = $λ\")\n",
    "end"
   ]
  },
  {
   "cell_type": "markdown",
   "metadata": {},
   "source": [
    "## Benchmarks\n",
    "\n",
    "The Lyapunov exponent computations are quite fast! To benchmark them we can use the `BenchmarkTools` package."
   ]
  },
  {
   "cell_type": "code",
   "execution_count": null,
   "metadata": {},
   "outputs": [],
   "source": [
    "using BenchmarkTools, OrdinaryDiffEq"
   ]
  },
  {
   "cell_type": "code",
   "execution_count": null,
   "metadata": {},
   "outputs": [],
   "source": [
    "diffeq = (reltol = 1e-6, abstol = 1e-6) "
   ]
  },
  {
   "cell_type": "code",
   "execution_count": null,
   "metadata": {},
   "outputs": [],
   "source": [
    "@btime lyapunovs($lor, 2000; Ttr = 200, $diffeq...); # use default solver SimpleATsit5()"
   ]
  },
  {
   "cell_type": "markdown",
   "metadata": {},
   "source": [
    "For performance it is always imprortant to choose the correct solver! For example, even though `Vern9()` is a higher order solver than the default, it is faster for computing the exponent:"
   ]
  },
  {
   "cell_type": "code",
   "execution_count": null,
   "metadata": {},
   "outputs": [],
   "source": [
    "@btime lyapunovs($lor, 2000; Ttr = 200, $diffeq..., alg = Vern9());"
   ]
  },
  {
   "cell_type": "markdown",
   "metadata": {},
   "source": [
    "This happens because `Vern9` can take larger steps. For more information visit the official documentation of **DynamicalSystems.jl**.\n",
    "\n",
    "---"
   ]
  },
  {
   "cell_type": "markdown",
   "metadata": {},
   "source": [
    "Discrete systems are also super faster!"
   ]
  },
  {
   "cell_type": "code",
   "execution_count": null,
   "metadata": {},
   "outputs": [],
   "source": [
    "tow = Systems.towel() # 3D discrete chaotic system"
   ]
  },
  {
   "cell_type": "code",
   "execution_count": null,
   "metadata": {},
   "outputs": [],
   "source": [
    "@btime lyapunovs($tow, 2000; Ttr = 200);"
   ]
  },
  {
   "cell_type": "code",
   "execution_count": null,
   "metadata": {},
   "outputs": [],
   "source": [
    "@btime lyapunov($tow, 2000; Ttr = 200);"
   ]
  },
  {
   "cell_type": "markdown",
   "metadata": {},
   "source": [
    "# 2.D. How **DynamicalSystems.jl** is a library"
   ]
  },
  {
   "cell_type": "markdown",
   "metadata": {},
   "source": [
    "What if the command `lyapunov(ds, 2000)` is too magical for you? Given that you have a basic idea of what a Lyapunov exponent is, you still don't know _how_ the function `lyapunov` actually computes it.\n",
    "\n",
    "And knowing _exactly_ how a function computes stuff is really important for science!\n",
    "\n",
    "For this, we turn to its documentation string:"
   ]
  },
  {
   "cell_type": "code",
   "execution_count": null,
   "metadata": {},
   "outputs": [],
   "source": [
    "?lyapunov"
   ]
  },
  {
   "cell_type": "markdown",
   "metadata": {},
   "source": [
    "---\n",
    "\n",
    "**All** documentation strings of functions exported by **DynamicalSystems.jl** have this structure:\n",
    "\n",
    "1. Call signature\n",
    "2. Couple of sentences explanation of what the function does\n",
    "2. Keyword argument listing\n",
    "3. Scientific description of the algorithm used\n",
    "4. References\n",
    "\n",
    "This way not only you get the basic idea of how the function works, but if this is not enough for you and want to learn more, you can look at the references!"
   ]
  },
  {
   "cell_type": "markdown",
   "metadata": {},
   "source": [
    "# 2.E. More library: the GALI algorithm\n",
    "\n",
    "For this part we will simply visit the documentation page of **DynamicalSystems.jl** and use the search function.\n",
    "\n",
    "https://juliadynamics.github.io/DynamicalSystems.jl/latest/"
   ]
  }
 ],
 "metadata": {
  "kernelspec": {
   "display_name": "Julia 1.3.0",
   "language": "julia",
   "name": "julia-1.3"
  },
  "language_info": {
   "file_extension": ".jl",
   "mimetype": "application/julia",
   "name": "julia",
   "version": "1.3.0"
  }
 },
 "nbformat": 4,
 "nbformat_minor": 4
}
