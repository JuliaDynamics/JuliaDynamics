{
 "cells": [
  {
   "cell_type": "markdown",
   "metadata": {},
   "source": [
    "# Introduction\n",
    "\n",
    "Welcome to this 6-part tutorial for **DynamicalSystems.jl**, which is a Julia software library for the exploration of chaos and nonlinear dynamics. These notebooks accompany the broadcasted YouTube video which you can find here: https://www.youtube.com/watch?v=pf7Njyo-TLc\n",
    "\n",
    "---\n",
    "\n",
    "But what _is_ **DynamicalSystems.jl**? \n",
    "\n",
    "![map of DynamicalSystems.jl](map_of_ds.png)\n",
    "\n",
    "\n",
    "## JuliaDynamics\n",
    "\n",
    "**DynamicalSystems.jl** itself is a part of a larger GitHub organization called [JuliaDynamics](https://github.com/JuliaDynamics). Be sure to visit our website for more awesome stuff: https://juliadynamics.github.io/JuliaDynamics/\n",
    "\n",
    "---\n",
    "\n",
    "\n",
    "## Installation\n",
    "\n",
    "**DynamicalSystems.jl** is a registered package. On Julia REPL v1.0 or latest you only have to type `]add DynamicalSystems` to install its features.\n",
    "\n",
    "* Please be sure you have version `DynamicalSystems 1.2.0` (or latest) installed!\n",
    "\n",
    "You should also install `PyPlot` which we use for plotting in some notebooks and `OrdinaryDiffEq` to access some advanced solvers for continuous systems.\n",
    "\n",
    "For the interactive applications you have to install `InteractiveChaos` and `Makie`.\n",
    "\n",
    "    "
   ]
  },
  {
   "cell_type": "markdown",
   "metadata": {},
   "source": [
    "\n",
    "## Contents of these tutorials\n",
    "This tutorial covers version `1.2` and larger, for **DynamicalSystems.jl**.\n",
    "Each chapter of the tutorial is a glimpse across the different functionalities that compose **DynamicalSystems.jl**. At the end of each chapter a feature overview of the module will be given!\n",
    "\n",
    "1. `DynamicalSystemsBase`\n",
    "   1. Creating an instance of a dynamical system\n",
    "   2. Getting a trajectory out of it\n",
    "   3. Jacobian function\n",
    "   3. Identical handling for continuous and discrete systems\n",
    "2. `ChaosTools`\n",
    "    1. What to do with a dynamical system? Orbit diagrams\n",
    "    3. Poincare surfaces of section\n",
    "    3. Lyapunov Exponents\n",
    "    3. How **DynamicalSystems.jl** is a library\n",
    "    4. More library: the GALI algorithm\n",
    "3. `DelayEmbeddings`\n",
    "    1. How we handle numerical data in the ecosystem\n",
    "    2. Delay coordinates embedding\n",
    "    3. Estimating an optimal embedding time\n",
    "    4. Fast (self-)mutual information\n",
    "4. Entropies and dimensions\n",
    "    1. Generalized Entropy\n",
    "    2. Specialized Histogram\n",
    "    2. Generalized Dimension\n",
    "    3. Automated Dimension Estimation\n",
    "4. `RecurrenceAnalysis`\n",
    "    1. What is a recurrence matrix?\n",
    "    2. Recurrence plots\n",
    "    3. Typical recurrence plots\n",
    "    4. Using the recurrence matrix\n",
    "5. `InteractiveChaos`: A glimpse into the **beta** state of interactive applications for the exploration of chaos\n",
    "\n",
    "*Please consider starring the [GitHub repo](https://github.com/JuliaDynamics/DynamicalSystems.jl) of **DynamicalSystems.jl** if you find it useful!*"
   ]
  },
  {
   "cell_type": "markdown",
   "metadata": {},
   "source": [
    "\n",
    "## Documentation\n",
    "\n",
    "https://juliadynamics.github.io/DynamicalSystems.jl/latest/.\n",
    "\n",
    "In the same website you will find a [list of contents](https://juliadynamics.github.io/DynamicalSystems.jl/latest/#contents).\n",
    "\n",
    "If you have questions, you can open issues in the appropriate [GitHub repository](https://github.com/JuliaDynamics); if you think your question is minor, don't hesitate to chat with us over [gitter](https://gitter.im/JuliaDynamics/Lobby) or on the `#dynamics-bridged` channel of the official Julia Slack (this channel is bridged with the gitter channel).\n",
    "\n",
    "## Documentation Strings\n",
    "\n",
    "All functions that are exported by **DynamicalSystems.jl** have very detailed documentation strings. \n",
    "* Simply press `?` followed by the function name to see the documentation strings!\n"
   ]
  }
 ],
 "metadata": {
  "kernelspec": {
   "display_name": "Julia 1.3.0",
   "language": "julia",
   "name": "julia-1.3"
  },
  "language_info": {
   "file_extension": ".jl",
   "mimetype": "application/julia",
   "name": "julia",
   "version": "1.3.0"
  }
 },
 "nbformat": 4,
 "nbformat_minor": 4
}
