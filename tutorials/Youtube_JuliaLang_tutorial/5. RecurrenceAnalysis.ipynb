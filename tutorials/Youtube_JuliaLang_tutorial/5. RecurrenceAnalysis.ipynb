{
 "cells": [
  {
   "cell_type": "markdown",
   "metadata": {},
   "source": [
    "# 5.A. What is a recurrence matrix?\n",
    "\n",
    "Most dynamical systems of interest evolve within a **bounded set**. This means that all trajectories move around in a specifc region in the phase space instead of escaping to infinity.\n",
    "\n",
    "In such cases a **recurrence** is an event likely to happen (and most of the time it is guaranteed to happen). Recurrence simply means that a trajectory $x(t_i)$ \"visits the neighborhood\" of itself at a another point in time, $x(t_j)$. A **Recurrence Matrix** is a way to list these recurrences.\n",
    "\n",
    "To put it into more concrete terms, the recurrence matrix is defined as\n",
    "\n",
    "$$\n",
    "R[i, j] = \\begin{cases}\n",
    "1 \\quad \\text{if}\\quad d(x[i], x[j]) \\le \\varepsilon\\\\\n",
    "0 \\quad \\text{else}\n",
    "\\end{cases}\n",
    "$$\n",
    "\n",
    "with $d(x[i], x[j])$ the distance between the two points at times $i, j$. You can use different metrics for $d$ and by default we use the Euclidean.\n",
    "\n",
    "Notice that $x$ can be single timeseries or a full trajectory. \n",
    "\n",
    "---\n",
    "\n",
    "In the previous examples we have been looking at the Lorenz system in different regimes. For starters lets see how the recurrence matrix the Lorenz system looks like in these cases"
   ]
  },
  {
   "cell_type": "code",
   "execution_count": null,
   "metadata": {},
   "outputs": [],
   "source": [
    "using DynamicalSystems, Plots"
   ]
  },
  {
   "cell_type": "code",
   "execution_count": null,
   "metadata": {},
   "outputs": [],
   "source": [
    "lor = Systems.lorenz()"
   ]
  },
  {
   "cell_type": "markdown",
   "metadata": {},
   "source": [
    "To create a recurrence matrix simply use `RecurrenceMatrix(trajectory, ε)` with `ε` the distance threshold."
   ]
  },
  {
   "cell_type": "code",
   "execution_count": null,
   "metadata": {},
   "outputs": [],
   "source": [
    "set_parameter!(lor, 2, 69.75) # stable regime for Lorenz\n",
    "\n",
    "t = 5.0\n",
    "dt = 0.01\n",
    "\n",
    "tr = trajectory(lor, t; dt = dt, Ttr = 2000.0)\n",
    "\n",
    "R = RecurrenceMatrix(tr, 5.0)"
   ]
  },
  {
   "cell_type": "markdown",
   "metadata": {},
   "source": [
    "## 5.B. Recurrence plots\n",
    "\n",
    "Internally a recurrence matrix is represented as a sparse matrix. \n",
    "What you see above is a simple ASCII-based plot of the matrix (with dots at non-zero elements). \n",
    "\n",
    "There are three ways to visualize a recurrence matrix:\n",
    "\n",
    "1. Using `recurrenceplot` for a text-based plot (for use in e.g. a terminal). This is the only function that \"plots\" immediatelly\n",
    "2. Using `coordinates` which returns the coordinates of the nonzero elements as scatter data.\n",
    "3. Using `grayscale` which creates a grayscale matrix representation."
   ]
  },
  {
   "cell_type": "code",
   "execution_count": null,
   "metadata": {},
   "outputs": [],
   "source": [
    "x, y = coordinates(R)\n",
    "hcat(x, y)"
   ]
  },
  {
   "cell_type": "markdown",
   "metadata": {},
   "source": [
    "To plot this one has to use the plotting library of their choice:"
   ]
  },
  {
   "cell_type": "code",
   "execution_count": null,
   "metadata": {},
   "outputs": [],
   "source": [
    "scatter(x, y, \n",
    "    markersize=0.2, alpha = 0.5, xlims=(1, size(R)[1]), ylims=(1, size(R)[2]),\n",
    "    size=(500,500),leg=false, grid=false)"
   ]
  },
  {
   "cell_type": "markdown",
   "metadata": {},
   "source": [
    "Notice that the above plot has its axis in index coordinates. One can modify this by indexing the time vector of the trajectory, which by default is `0:dt:t`."
   ]
  },
  {
   "cell_type": "code",
   "execution_count": null,
   "metadata": {},
   "outputs": [],
   "source": [
    "tvec = 0:dt:t\n",
    "\n",
    "scatter(tvec[x], tvec[y], \n",
    "    markersize=0.2, alpha = 0.5, xlims=(0,t), ylims=(0,t),\n",
    "    size=(500,500),leg=false, grid=false)"
   ]
  },
  {
   "cell_type": "markdown",
   "metadata": {},
   "source": [
    "## 5.C. Typical recurrence plots\n",
    "\n",
    "In the previous notebooks we explored the Lorenz system in a regular and chaotic regime.\n",
    "Here is a comparison of a recurrence plot of the Lorenz system in these two regimes:"
   ]
  },
  {
   "cell_type": "code",
   "execution_count": null,
   "metadata": {},
   "outputs": [],
   "source": [
    "lor = Systems.lorenz()\n",
    "subplots = []\n",
    "\n",
    "for (i, ρ) in enumerate((69.75, 28.0))\n",
    "    set_parameter!(lor, 2, ρ)\n",
    "    t, dt = 20.0, 0.02\n",
    "    tr = trajectory(lor, t; dt = dt, Ttr = 2000.0)\n",
    "    tvec = 0:dt:t\n",
    "    \n",
    "    p = plot(tr[:, 1], tr[:, 3], color =:black, label = \"X vs Z\",\n",
    "             title=string(\"\\\\rho = $ρ, \", (i != 1 ? \"not periodic\" : \"periodic\")))\n",
    "    push!(subplots, p)\n",
    "    \n",
    "    ε = (i == 1 ? 5.0 : 3.0)\n",
    "    R = RecurrenceMatrix(tr, ε)\n",
    "    \n",
    "    x, y = coordinates(R)\n",
    "    q = scatter(tvec[x], tvec[y], markersize=0.3, legend=false, alpha = 0.2, color=:black, xlims=(0,t), ylims=(0,t), xlabel=\"t\")\n",
    "    if i == 1 \n",
    "        plot!(ylabel=\"t\")\n",
    "    end\n",
    "    push!(subplots, q)\n",
    "end\n",
    "\n",
    "permute!(subplots, [1,3,2,4])\n",
    "plot(subplots..., layout=(2,2), size=(1100, 1000), html_output_format=:png, grid=false)"
   ]
  },
  {
   "cell_type": "markdown",
   "metadata": {},
   "source": [
    "On the left we see long (potentially infinite) diagonals repeated for different times. This is the case for periodic systems as they visit exactly the same area on the phase space again and again. The vertical distance between the offset diagonals also coincides with the periodicity of the system, which is around `t ≈ 4`.\n",
    "\n",
    "On the right we see a structure typical of chaotic motion on a strange attractor such as the one of the Lorenz system: the orbit visits neighborhoods of previous points but then quickly diverges again. This results in many small diagonal lines."
   ]
  },
  {
   "cell_type": "markdown",
   "metadata": {},
   "source": [
    "## 5.D. Using the recurrence matrix\n",
    "\n",
    "Plots are great, but most of the time one needs to go further. What information can be obtained from recurrence matrices? \n"
   ]
  },
  {
   "cell_type": "code",
   "execution_count": null,
   "metadata": {},
   "outputs": [],
   "source": [
    "RQA = rqa(R, theiler = 10, lmin = 5)"
   ]
  },
  {
   "cell_type": "markdown",
   "metadata": {},
   "source": [
    "There are a lot of measures that one can compute from a recurrence matrix. Too many in fact, so for this notebook we will consider only a few of them: `determinism`, maximum and average diagonal line length and `divergence` (which is simply 1/(maximum diagonal length))."
   ]
  },
  {
   "cell_type": "code",
   "execution_count": null,
   "metadata": {},
   "outputs": [],
   "source": [
    "lor = Systems.lorenz()\n",
    "for (i, ρ) in enumerate((69.75, 28.0))\n",
    "    println(\"\\nρ = $ρ \")\n",
    "    set_parameter!(lor, 2, ρ)\n",
    "    t, dt = 20.0, 0.01\n",
    "    tr = trajectory(lor, t; dt = dt, Ttr = 200.0)\n",
    "    \n",
    "    ε = i == 1 ? 5.0 : 3.0\n",
    "    R = RecurrenceMatrix(tr, ε)\n",
    "    \n",
    "    RQA = rqa(R, theiler = 10, lmin = 5)\n",
    "\n",
    "    println(\"maximum diagonal: \", RQA.Lmax)\n",
    "    println(\"average diagonal: \", RQA.L)\n",
    "    println(\"determinism: \", RQA.DET)\n",
    "    println(\"divergence (t-units): \", RQA.DIV/dt)\n",
    "end"
   ]
  },
  {
   "cell_type": "markdown",
   "metadata": {},
   "source": [
    "What can we understand from these numbers? \n",
    "\n",
    "1. For periodic systems the maximum and average diagonals are not really meaningful quantities. Their true values are `Inf`.\n",
    "2. In the chaotic regime the average and maximum diagonal length both serve as an estimate of the *divergence* of nearby trajectories.\n",
    "3. \"Determinism\" simply measures the portion of diagonal lines in the recurrence plot. It can be interpreted as the \"predictability\" of the trajectory, in the sense that approximately close states should have approximately similar future for small times.\n",
    "4. \"Divergence\" is equal to 1/(maximum diagonal). It is just a measure for how fast do trajectories diverge. Again, for the periodic system we know that it theoretically should be zero."
   ]
  },
  {
   "cell_type": "markdown",
   "metadata": {},
   "source": [
    "### A final example: Laminarity\n",
    "\n",
    "Besides these diagonal lines, there are other things that may show up in a recurrence plot, given a different trajectory. An example is vertical lines, which appear in e.g. intermittent systems.\n",
    "\n",
    "For example, it is known that the logistic map is intermittent just before the period 3 window, so let's look at its recurrence plot there:"
   ]
  },
  {
   "cell_type": "code",
   "execution_count": null,
   "metadata": {},
   "outputs": [],
   "source": [
    "logi = Systems.logistic(0.5; r = 3.828)"
   ]
  },
  {
   "cell_type": "markdown",
   "metadata": {},
   "source": [
    "In the following I will use the **third iterate** of the logistic map (because the laminar phases are of period 3):"
   ]
  },
  {
   "cell_type": "code",
   "execution_count": null,
   "metadata": {},
   "outputs": [],
   "source": [
    "x3 = trajectory(logi, 400; dt = 3) # <- every 3rd point with dt = 3\n",
    "\n",
    "Rlogi = RecurrenceMatrix(x3, 0.1)\n",
    "x, y = coordinates(Rlogi)\n",
    "\n",
    "p1 = plot(x3, color=:black, lw=0.5, ylabel=\"x³\")\n",
    "\n",
    "p2 = scatter(x, y, markersize = 0.3, color=:black, xlabel=\"n\", ylabel=\"n\")\n",
    "plot(p1, p2, layout=grid(2,1, heights=[0.3, 0.7]), leg=false, size=(500, 700))"
   ]
  },
  {
   "cell_type": "markdown",
   "metadata": {},
   "source": [
    "`laminarity` is a function that counts the portion of the vertical lines in the recurrence plot:"
   ]
  },
  {
   "cell_type": "code",
   "execution_count": null,
   "metadata": {},
   "outputs": [],
   "source": [
    "laminarity(Rlogi) # same as RQA(Rlogi).LAM"
   ]
  },
  {
   "cell_type": "markdown",
   "metadata": {},
   "source": [
    "This number tells us how big of a portion of the trajectory is spend in a \"laminar\" phase. Equivalently how much portion of the trajectory is spend around a constant number +/- `ε`."
   ]
  }
 ],
 "metadata": {
  "kernelspec": {
   "display_name": "Julia 1.3.0",
   "language": "julia",
   "name": "julia-1.3"
  },
  "language_info": {
   "file_extension": ".jl",
   "mimetype": "application/julia",
   "name": "julia",
   "version": "1.3.0"
  }
 },
 "nbformat": 4,
 "nbformat_minor": 4
}
